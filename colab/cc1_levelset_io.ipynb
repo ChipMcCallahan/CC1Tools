{
 "cells": [
  {
   "cell_type": "markdown",
   "metadata": {
    "colab_type": "text",
    "id": "view-in-github"
   },
   "source": [
    "<a href=\"https://colab.research.google.com/github/ChipMcCallahan/CC1LevelsetIO/blob/main/cc1_levelset_io.ipynb\" target=\"_parent\"><img src=\"https://colab.research.google.com/assets/colab-badge.svg\" alt=\"Open In Colab\"/></a>"
   ]
  },
  {
   "cell_type": "markdown",
   "metadata": {
    "id": "l1q5fMZTGr2c"
   },
   "source": [
    "# CC1LevelsetIO Demo\n",
    "\n",
    "#### Install module from GitHub and import:"
   ]
  },
  {
   "cell_type": "code",
   "execution_count": 1,
   "metadata": {
    "id": "rL9c_OanFWDU"
   },
   "outputs": [],
   "source": [
    "%%capture\n",
    "!pip install git+https://github.com/ChipMcCallahan/CC1Tools.git"
   ]
  },
  {
   "cell_type": "code",
   "execution_count": 2,
   "metadata": {
    "id": "qAk6BAE9fGNR"
   },
   "outputs": [],
   "source": [
    "from cc1_tools import CC1LevelsetReader, CC1LevelsetWriter\n",
    "import requests"
   ]
  },
  {
   "cell_type": "markdown",
   "metadata": {
    "id": "cMY-4zFMG6FI"
   },
   "source": [
    "#### Import and Read\n",
    "\n",
    "This feature imports custom CC1 sets from https://bitbusters.club/gliderbot/sets/cc1/ and returns them in [CC1LevelsetProto Levelset](https://github.com/ChipMcCallahan/CC1LevelsetProto/blob/main/cc1_levelset_proto/cc1_levelset.proto) format.\n",
    "\n",
    "If a CCX file exists that corresponds to the imported set, it is imported as well and used to populate the levelset `name` and `stories` fields. This currently applies only to CCLP1, CCLXP2, CCLP3, and CCLP4."
   ]
  },
  {
   "cell_type": "code",
   "execution_count": 3,
   "metadata": {
    "colab": {
     "base_uri": "https://localhost:8080/"
    },
    "id": "K0H44ranAJop",
    "outputId": "d71e94be-eca8-4f77-eab5-943d9d1bf944"
   },
   "outputs": [
    {
     "name": "stdout",
     "output_type": "stream",
     "text": [
      "Successfully retrieved https://bitbusters.club/gliderbot/sets/cc1/CCLP3.dat.\n",
      "Successfully retrieved https://storage.googleapis.com/file-hosting-abcdef/chips/CCLP3.ccx\n",
      "Found 149 levels in Chip's Challenge Level Pack 3\n",
      "Found 24 story elements in Chip's Challenge Level Pack 3\n",
      "Successfully retrieved https://bitbusters.club/gliderbot/sets/cc1/ajmiam-pit-of-100-tiles-v1008.dat.\n",
      "Found 100 levels in ajmiam-pit-of-100-tiles-v1008.dat\n",
      "Found 0 story elements in ajmiam-pit-of-100-tiles-v1008.dat\n"
     ]
    }
   ],
   "source": [
    "reader = CC1LevelsetReader()\n",
    "\n",
    "cclp3 = reader.import_and_read(\"CCLP3.dat\")\n",
    "print(f\"Found {len(cclp3.levels)} levels in {cclp3.name}\")\n",
    "print(f\"Found {len(cclp3.stories)} story elements in {cclp3.name}\")\n",
    "po100t = reader.import_and_read(\"ajmiam-pit-of-100-tiles-v1008.dat\")\n",
    "print(f\"Found {len(po100t.levels)} levels in {po100t.name}\")\n",
    "print(f\"Found {len(po100t.stories)} story elements in {po100t.name}\")"
   ]
  },
  {
   "cell_type": "markdown",
   "metadata": {
    "id": "5h8xuuM4H8ZK"
   },
   "source": [
    "#### Write to Bytes or DAT File\n",
    "\n",
    "The writer can either return the DAT format in bytes or else write directly to file. Let's try both."
   ]
  },
  {
   "cell_type": "code",
   "execution_count": 4,
   "metadata": {
    "colab": {
     "base_uri": "https://localhost:8080/"
    },
    "id": "5P9w3xUkALgt",
    "outputId": "be8b96b4-221a-41d5-9875-e406106645a8"
   },
   "outputs": [
    {
     "name": "stdout",
     "output_type": "stream",
     "text": [
      "Wrote set to file po100t.dat\n"
     ]
    }
   ],
   "source": [
    "writer = CC1LevelsetWriter()\n",
    "\n",
    "# get the DAT format in bytes\n",
    "dat = writer.write(cclp3)\n",
    "with open(\"CCLP3.dat\", \"wb\") as f:\n",
    "    f.write(dat)\n",
    "\n",
    "# write the DAT directly to disk\n",
    "writer.write(po100t, filename=\"po100t.dat\")"
   ]
  },
  {
   "cell_type": "code",
   "execution_count": 5,
   "metadata": {
    "colab": {
     "base_uri": "https://localhost:8080/"
    },
    "id": "G-Zwyb0oJKUw",
    "outputId": "2d0256ef-553a-4d76-caac-19b67c8a7a81"
   },
   "outputs": [
    {
     "name": "stdout",
     "output_type": "stream",
     "text": [
      "CCLP3.dat\n",
      "cc1_level_imager.ipynb\n",
      "cc1_levelset_io.ipynb\n",
      "cc1_levelset_proto.ipynb\n",
      "cc1_levelset_transformer.ipynb\n",
      "cc1_random_levelset_generator.ipynb\n",
      "po100t.dat\n"
     ]
    }
   ],
   "source": [
    "!ls"
   ]
  },
  {
   "cell_type": "markdown",
   "metadata": {
    "id": "NU6Jc5JNJYOb"
   },
   "source": [
    "#### Read from DAT File\n",
    "\n",
    "Besides importing from the internet, our reader can also read directly from a local file.\n",
    "\n",
    "Notice that the `name` field of CCLP3 is now just the filename, and the `stories` field is not populated."
   ]
  },
  {
   "cell_type": "code",
   "execution_count": 6,
   "metadata": {
    "colab": {
     "base_uri": "https://localhost:8080/"
    },
    "id": "JfKeqcB8JO04",
    "outputId": "0f091c99-96aa-4388-8a64-0264fb8a8282"
   },
   "outputs": [
    {
     "name": "stdout",
     "output_type": "stream",
     "text": [
      "Final level of CCLP3.dat is 'Mr. McCallahan Presents'\n",
      "Found 0 story elements in CCLP3.dat\n",
      "Final level of po100t.dat is 'Boss Battle'\n"
     ]
    }
   ],
   "source": [
    "read_cclp3 = reader.read(\"CCLP3.dat\")\n",
    "print(f\"Final level of {read_cclp3.name} is '{read_cclp3.levels[-1].title}'\")\n",
    "print(f\"Found {len(read_cclp3.stories)} story elements in {read_cclp3.name}\")\n",
    "read_po100t = reader.read(\"po100t.dat\")\n",
    "print(f\"Final level of {read_po100t.name} is '{read_po100t.levels[-1].title}'\")"
   ]
  },
  {
   "cell_type": "markdown",
   "metadata": {
    "id": "Tazvb1jmLm6w"
   },
   "source": [
    "# Read from DAT and CCX Files\n",
    "Let's fetch the CCLP3 CCX file and save it to disk, and then try the read again."
   ]
  },
  {
   "cell_type": "code",
   "execution_count": 7,
   "metadata": {
    "colab": {
     "base_uri": "https://localhost:8080/"
    },
    "id": "_xfrzWWyKLy-",
    "outputId": "1e325236-1180-4250-c10b-28b150a86ce2"
   },
   "outputs": [
    {
     "name": "stdout",
     "output_type": "stream",
     "text": [
      "Final level of Chip's Challenge Level Pack 3 is 'Mr. McCallahan Presents'\n",
      "Found 24 story elements in Chip's Challenge Level Pack 3\n"
     ]
    }
   ],
   "source": [
    "ccx = requests.get(\"https://storage.googleapis.com/file-hosting-abcdef/chips/CCLP3.ccx\").text\n",
    "\n",
    "with open(\"CCLP3.ccx\", \"w\") as f:\n",
    "    f.write(ccx)\n",
    "\n",
    "reread_cclp3 = reader.read(\"CCLP3.dat\", \"CCLP3.ccx\")\n",
    "print(f\"Final level of {reread_cclp3.name} is '{reread_cclp3.levels[-1].title}'\")\n",
    "print(f\"Found {len(reread_cclp3.stories)} story elements in {reread_cclp3.name}\")"
   ]
  },
  {
   "cell_type": "markdown",
   "metadata": {
    "id": "dvwgC2AvMf92"
   },
   "source": [
    "This time the `name` and `stories` fields are populated."
   ]
  }
 ],
 "metadata": {
  "colab": {
   "authorship_tag": "ABX9TyP8gK4TCAgdKo4KHnLZ0jpH",
   "collapsed_sections": [],
   "include_colab_link": true,
   "name": "[github] cc1_levelset_io.ipynb",
   "provenance": []
  },
  "kernelspec": {
   "display_name": "Python 3 (ipykernel)",
   "language": "python",
   "name": "python3"
  },
  "language_info": {
   "codemirror_mode": {
    "name": "ipython",
    "version": 3
   },
   "file_extension": ".py",
   "mimetype": "text/x-python",
   "name": "python",
   "nbconvert_exporter": "python",
   "pygments_lexer": "ipython3",
   "version": "3.10.6"
  }
 },
 "nbformat": 4,
 "nbformat_minor": 1
}
