{
 "cells": [
  {
   "cell_type": "markdown",
   "metadata": {
    "colab_type": "text",
    "id": "view-in-github"
   },
   "source": [
    "<a href=\"https://colab.research.google.com/github/ChipMcCallahan/CC1Tools/blob/main/colab/cc1_levelset_proto.ipynb\" target=\"_parent\"><img src=\"https://colab.research.google.com/assets/colab-badge.svg\" alt=\"Open In Colab\"/></a>"
   ]
  },
  {
   "cell_type": "markdown",
   "metadata": {
    "id": "ScwkKZ1SJGoD"
   },
   "source": [
    "# CC1LevelsetProto Demo\n",
    "\n",
    "#### Install package from GitHub."
   ]
  },
  {
   "cell_type": "code",
   "execution_count": 2,
   "metadata": {
    "id": "evL3lEdhr_D0"
   },
   "outputs": [],
   "source": [
    "%%capture\n",
    "!pip install git+https://github.com/ChipMcCallahan/CC1Tools.git"
   ]
  },
  {
   "cell_type": "markdown",
   "metadata": {
    "id": "7yb7aFpSKHQO"
   },
   "source": [
    "#### Create and name a Levelset."
   ]
  },
  {
   "cell_type": "code",
   "execution_count": 3,
   "metadata": {
    "colab": {
     "base_uri": "https://localhost:8080/"
    },
    "id": "Zc0lcqz7whfc",
    "outputId": "7304f059-5e66-439a-96fd-093d423720c1"
   },
   "outputs": [
    {
     "name": "stdout",
     "output_type": "stream",
     "text": [
      "name: \"My Levelset\"\n",
      "\n"
     ]
    }
   ],
   "source": [
    "from cc1_tools import Levelset, CC1TileCode\n",
    "\n",
    "levelset = Levelset()\n",
    "levelset.name = \"My Levelset\"\n",
    "print(levelset)"
   ]
  },
  {
   "cell_type": "markdown",
   "metadata": {
    "id": "LQktWiEjKiL_"
   },
   "source": [
    "#### Add Levels and Populate Basic Fields"
   ]
  },
  {
   "cell_type": "code",
   "execution_count": 4,
   "metadata": {
    "colab": {
     "base_uri": "https://localhost:8080/"
    },
    "id": "2Fi9Y1-pZ70b",
    "outputId": "8aaf3e7f-ba4c-4f9c-ea3c-d152987cf751"
   },
   "outputs": [
    {
     "name": "stdout",
     "output_type": "stream",
     "text": [
      "name: \"My Levelset\"\n",
      "levels {\n",
      "  title: \"Demo Level 1\"\n",
      "  author: \"Chip McCallahan\"\n",
      "  time: 100\n",
      "  chips: 200\n",
      "  hint: \"This is the hint for level 1.\"\n",
      "  password: \"AAAA\"\n",
      "}\n",
      "levels {\n",
      "  title: \"Demo Level 2\"\n",
      "  author: \"Chip McCallahan\"\n",
      "  time: 200\n",
      "  chips: 400\n",
      "  hint: \"This is the hint for level 2.\"\n",
      "  password: \"BBBB\"\n",
      "}\n",
      "\n"
     ]
    }
   ],
   "source": [
    "for i in range(1,3):\n",
    "    level = levelset.levels.add()\n",
    "    level.title = f\"Demo Level {i}\"\n",
    "    level.author = \"Chip McCallahan\"\n",
    "    level.time = 100 * i\n",
    "    level.chips = 200 * i\n",
    "    level.password = (\"AAAA\", \"BBBB\")[i-1]\n",
    "    level.hint = f\"This is the hint for level {i}.\"\n",
    "print(levelset)"
   ]
  },
  {
   "cell_type": "markdown",
   "metadata": {
    "id": "ZrC3qjWUK1CT"
   },
   "source": [
    "#### Create a Map\n",
    "\n",
    "Note that any tilespec that is unspecified defaults to \n",
    "\n",
    "`{top: CC1TileCode.FLOOR, bottom: CC1TileCode.FLOOR}`\n",
    "\n",
    "View the [CC1TileCode enum](https://github.com/ChipMcCallahan/CC1LevelsetProto/blob/main/cc1_levelset_proto/cc1_levelset.proto) for allowed values.\n",
    "\n",
    "X and Y coordinates must be converted to a single integer coordinate:  \n",
    "`p = y * 32 + x`. \n",
    "\n",
    "These can be unpacked by:  \n",
    "`x, y = p % 32, p // 32`"
   ]
  },
  {
   "cell_type": "code",
   "execution_count": 5,
   "metadata": {
    "id": "eq5X1_kyKyHO"
   },
   "outputs": [],
   "source": [
    "TRAPS = {(1, 1): (2, 2), (11, 11): (12, 12)}\n",
    "CLONERS = {(3, 3): (4, 4), (13, 13): (14, 14)}\n",
    "\n",
    "# for the demo, just make the same map for each level\n",
    "for level in levelset.levels:\n",
    "    for i in range(32):\n",
    "        for j in range(32):\n",
    "            tilespec = level.map[j * 32 + i]\n",
    "\n",
    "            # add a border of wall tiles\n",
    "            if i == 0 or j == 0 or i == 31 or j == 31:\n",
    "                tilespec.top = CC1TileCode.WALL\n",
    "\n",
    "            # add a half border of teeth\n",
    "            elif i == 1 or j == 1:\n",
    "                tilespec.top = CC1TileCode.TEETH_S\n",
    "\n",
    "                # add each teeth to the movement list\n",
    "                level.movement.append(j * 32 + i)\n",
    "            \n",
    "            # put the player somewhere near the middle\n",
    "            elif (i, j) == (14, 16):\n",
    "                tilespec.top = CC1TileCode.PLAYER_S\n",
    "            \n",
    "            # and an exit nearby\n",
    "            elif (i, j) == (20, 20):\n",
    "                tilespec.top = CC1TileCode.EXIT\n",
    "            \n",
    "            # add the traps and cloners\n",
    "            elif (i, j) in TRAPS.keys():\n",
    "                tilespec.top = CC1TileCode.TRAP_BUTTON\n",
    "            elif (i, j) in TRAPS.values():\n",
    "                tilespec.top = CC1TileCode.TRAP\n",
    "            elif (i, j) in CLONERS.keys():\n",
    "                tilespec.top = CC1TileCode.CLONE_BUTTON\n",
    "            elif (i, j) in CLONERS.values():\n",
    "                tilespec.bottom = CC1TileCode.CLONER\n",
    "                tilespec.top = CC1TileCode.FIREBALL_S\n",
    "            \n",
    "            # connect the traps and cloners\n",
    "            for button, trap in TRAPS.items():\n",
    "                bx, by = button\n",
    "                tx, ty = trap\n",
    "                level.trap_controls[by * 32 + bx] = ty * 32 + tx\n",
    "            for button, cloner in CLONERS.items():\n",
    "                bx, by = button\n",
    "                cx, cy = cloner\n",
    "                level.clone_controls[by * 32 + bx] = cy * 32 + cx\n"
   ]
  },
  {
   "cell_type": "markdown",
   "metadata": {
    "id": "LTmTOlHHZD2W"
   },
   "source": [
    "We don't want to print the levelset now, it would be too much text. We can do some exploring to make sure things were added correctly, though."
   ]
  },
  {
   "cell_type": "code",
   "execution_count": 6,
   "metadata": {
    "colab": {
     "base_uri": "https://localhost:8080/"
    },
    "id": "6NbLyVS8Ur4L",
    "outputId": "d8a98407-5e26-4e25-9d2c-24809e2a14bc"
   },
   "outputs": [
    {
     "name": "stdout",
     "output_type": "stream",
     "text": [
      "Clone controls are {99: 132, 429: 462}\n",
      "Trap controls are {33: 66, 363: 396}\n",
      "\n",
      "Tile at 14, 16 is: \n",
      "top: PLAYER_S\n",
      "\n",
      "Tile at 1, 30 is: \n",
      "top: TEETH_S\n",
      "\n"
     ]
    }
   ],
   "source": [
    "print(f\"Clone controls are {levelset.levels[0].clone_controls}\")\n",
    "print(f\"Trap controls are {levelset.levels[0].trap_controls}\")\n",
    "print(f\"\\nTile at 14, 16 is: \\n{levelset.levels[0].map[16 * 32 + 14]}\")\n",
    "print(f\"Tile at 1, 30 is: \\n{levelset.levels[0].map[30 * 16 + 1]}\")"
   ]
  },
  {
   "cell_type": "code",
   "execution_count": null,
   "metadata": {},
   "outputs": [],
   "source": []
  }
 ],
 "metadata": {
  "colab": {
   "include_colab_link": true,
   "name": "[github] cc1_levelset_proto.ipynb",
   "provenance": []
  },
  "kernelspec": {
   "display_name": "Python 3 (ipykernel)",
   "language": "python",
   "name": "python3"
  },
  "language_info": {
   "codemirror_mode": {
    "name": "ipython",
    "version": 3
   },
   "file_extension": ".py",
   "mimetype": "text/x-python",
   "name": "python",
   "nbconvert_exporter": "python",
   "pygments_lexer": "ipython3",
   "version": "3.10.6"
  }
 },
 "nbformat": 4,
 "nbformat_minor": 1
}
