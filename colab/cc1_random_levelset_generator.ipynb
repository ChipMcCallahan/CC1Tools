{
 "cells": [
  {
   "cell_type": "markdown",
   "metadata": {
    "colab_type": "text",
    "id": "view-in-github"
   },
   "source": [
    "<a href=\"https://colab.research.google.com/github/ChipMcCallahan/CC1RandomLevelsetGenerator/blob/main/CC1RandomLevelsetGenerator.ipynb\" target=\"_parent\"><img src=\"https://colab.research.google.com/assets/colab-badge.svg\" alt=\"Open In Colab\"/></a>"
   ]
  },
  {
   "cell_type": "markdown",
   "metadata": {
    "id": "3_RIBHpx12Ak"
   },
   "source": [
    "# CC1 Random Levelset Generator\n",
    "\n",
    "Import levelsets, keep or drop levels as desired, and generate a random levelset of arbitrary length from the pool."
   ]
  },
  {
   "cell_type": "code",
   "execution_count": 8,
   "metadata": {
    "id": "selScsb9VK3Q"
   },
   "outputs": [],
   "source": [
    "%%capture\n",
    "# install the module\n",
    "\n",
    "!pip install git+https://github.com/ChipMcCallahan/CC1Tools"
   ]
  },
  {
   "cell_type": "code",
   "execution_count": 9,
   "metadata": {
    "id": "zpv7u-So8k93"
   },
   "outputs": [],
   "source": [
    "# Hack to keep Colab from auto printing return values.\n",
    "from IPython.core.interactiveshell import InteractiveShell\n",
    "InteractiveShell.ast_node_interactivity = \"none\""
   ]
  },
  {
   "cell_type": "markdown",
   "metadata": {
    "id": "FtLCNcU_9Exk"
   },
   "source": [
    "### Import sets from online\n",
    "\n",
    "Available sets are listed at  https://bitbusters.club/gliderbot/sets/cc1/"
   ]
  },
  {
   "cell_type": "code",
   "execution_count": 10,
   "metadata": {
    "colab": {
     "base_uri": "https://localhost:8080/"
    },
    "id": "2L-ot9U2p-1H",
    "outputId": "0a87f3be-1b99-48a0-d32b-1127fab831ab"
   },
   "outputs": [
    {
     "name": "stdout",
     "output_type": "stream",
     "text": [
      "Successfully retrieved https://bitbusters.club/gliderbot/sets/cc1/CCLP1.dat.\n",
      "Successfully retrieved https://storage.googleapis.com/file-hosting-abcdef/chips/CCLP1.ccx\n",
      "Successfully retrieved https://bitbusters.club/gliderbot/sets/cc1/CCLXP2.dat.\n",
      "Successfully retrieved https://storage.googleapis.com/file-hosting-abcdef/chips/CCLXP2.ccx\n",
      "Successfully retrieved https://bitbusters.club/gliderbot/sets/cc1/CCLP3.dat.\n",
      "Successfully retrieved https://storage.googleapis.com/file-hosting-abcdef/chips/CCLP3.ccx\n",
      "Successfully retrieved https://bitbusters.club/gliderbot/sets/cc1/CCLP4.dat.\n",
      "Successfully retrieved https://storage.googleapis.com/file-hosting-abcdef/chips/CCLP4.ccx\n"
     ]
    }
   ],
   "source": [
    "from cc1_tools import CC1RandomLevelsetGenerator\n",
    "gen = CC1RandomLevelsetGenerator()\n",
    "\n",
    "# Import 4 official packs.\n",
    "gen.add_set(\"CCLP1.dat\")\n",
    "gen.add_set(\"CCLXP2.dat\")\n",
    "gen.add_set(\"CCLP3.dat\")\n",
    "gen.add_set(\"CCLP4.dat\")"
   ]
  },
  {
   "cell_type": "markdown",
   "metadata": {
    "id": "nsVvIrzM8kiP"
   },
   "source": [
    "Drop or keep levels."
   ]
  },
  {
   "cell_type": "code",
   "execution_count": 11,
   "metadata": {
    "colab": {
     "base_uri": "https://localhost:8080/"
    },
    "id": "G9pRy2kOqstO",
    "outputId": "6fd5fb31-dc32-4b30-f74f-5161233c75b6"
   },
   "outputs": [
    {
     "ename": "AttributeError",
     "evalue": "module 'collections' has no attribute 'Iterable'",
     "output_type": "error",
     "traceback": [
      "\u001b[1;31m---------------------------------------------------------------------------\u001b[0m",
      "\u001b[1;31mAttributeError\u001b[0m                            Traceback (most recent call last)",
      "Input \u001b[1;32mIn [11]\u001b[0m, in \u001b[0;36m<cell line: 3>\u001b[1;34m()\u001b[0m\n\u001b[0;32m      1\u001b[0m \u001b[38;5;66;03m# drop a few levels by title from the combined pool\u001b[39;00m\n\u001b[0;32m      2\u001b[0m DROP \u001b[38;5;241m=\u001b[39m [\u001b[38;5;124m\"\u001b[39m\u001b[38;5;124mBlobs on a Plane\u001b[39m\u001b[38;5;124m\"\u001b[39m, \u001b[38;5;124m\"\u001b[39m\u001b[38;5;124mCheckerboard I\u001b[39m\u001b[38;5;124m\"\u001b[39m, \u001b[38;5;124m\"\u001b[39m\u001b[38;5;124mSuspended Animation\u001b[39m\u001b[38;5;124m\"\u001b[39m, \u001b[38;5;124m\"\u001b[39m\u001b[38;5;124mThe Longest Track\u001b[39m\u001b[38;5;124m\"\u001b[39m]\n\u001b[1;32m----> 3\u001b[0m \u001b[43mgen\u001b[49m\u001b[38;5;241;43m.\u001b[39;49m\u001b[43mdrop\u001b[49m\u001b[43m(\u001b[49m\u001b[43mDROP\u001b[49m\u001b[43m)\u001b[49m\n",
      "File \u001b[1;32m~\\AppData\\Local\\Programs\\Python\\Python310\\lib\\site-packages\\cc1_tools\\CC1RandomLevelsetGenerator.py:98\u001b[0m, in \u001b[0;36mCC1RandomLevelsetGenerator.drop\u001b[1;34m(self, *titles)\u001b[0m\n\u001b[0;32m     96\u001b[0m \u001b[38;5;28;01mfor\u001b[39;00m wrapper \u001b[38;5;129;01min\u001b[39;00m \u001b[38;5;28mself\u001b[39m\u001b[38;5;241m.\u001b[39mpool\u001b[38;5;241m.\u001b[39mvalues():\n\u001b[0;32m     97\u001b[0m     \u001b[38;5;28;01mif\u001b[39;00m title\u001b[38;5;241m.\u001b[39mlower() \u001b[38;5;129;01min\u001b[39;00m wrapper\u001b[38;5;241m.\u001b[39mtitles:\n\u001b[1;32m---> 98\u001b[0m         \u001b[43mwrapper\u001b[49m\u001b[38;5;241;43m.\u001b[39;49m\u001b[43mdrop\u001b[49m\u001b[43m(\u001b[49m\u001b[43mtitle\u001b[49m\u001b[43m)\u001b[49m\n",
      "File \u001b[1;32m~\\AppData\\Local\\Programs\\Python\\Python310\\lib\\site-packages\\cc1_tools\\CC1RandomLevelsetGenerator.py:48\u001b[0m, in \u001b[0;36mCC1LevelsetWrapper.drop\u001b[1;34m(self, *args)\u001b[0m\n\u001b[0;32m     47\u001b[0m \u001b[38;5;28;01mdef\u001b[39;00m \u001b[38;5;21mdrop\u001b[39m(\u001b[38;5;28mself\u001b[39m, \u001b[38;5;241m*\u001b[39margs):\n\u001b[1;32m---> 48\u001b[0m     to_remove \u001b[38;5;241m=\u001b[39m \u001b[38;5;28;43mself\u001b[39;49m\u001b[38;5;241;43m.\u001b[39;49m\u001b[43mget_valid_arg_set\u001b[49m\u001b[43m(\u001b[49m\u001b[43margs\u001b[49m\u001b[43m)\u001b[49m\n\u001b[0;32m     49\u001b[0m     already_removed \u001b[38;5;241m=\u001b[39m to_remove\u001b[38;5;241m.\u001b[39mdifference(\u001b[38;5;28mself\u001b[39m\u001b[38;5;241m.\u001b[39meligible)\n\u001b[0;32m     50\u001b[0m     intersection \u001b[38;5;241m=\u001b[39m [\u001b[38;5;28mself\u001b[39m\u001b[38;5;241m.\u001b[39mlevelset\u001b[38;5;241m.\u001b[39mlevels[i\u001b[38;5;241m-\u001b[39m\u001b[38;5;241m1\u001b[39m]\u001b[38;5;241m.\u001b[39mtitle \u001b[38;5;28;01mfor\u001b[39;00m i \u001b[38;5;129;01min\u001b[39;00m \u001b[38;5;28mself\u001b[39m\u001b[38;5;241m.\u001b[39meligible\u001b[38;5;241m.\u001b[39mintersection(to_remove)]\n",
      "File \u001b[1;32m~\\AppData\\Local\\Programs\\Python\\Python310\\lib\\site-packages\\cc1_tools\\CC1RandomLevelsetGenerator.py:29\u001b[0m, in \u001b[0;36mCC1LevelsetWrapper.get_valid_arg_set\u001b[1;34m(self, args)\u001b[0m\n\u001b[0;32m     27\u001b[0m \u001b[38;5;28;01mdef\u001b[39;00m \u001b[38;5;21mget_valid_arg_set\u001b[39m(\u001b[38;5;28mself\u001b[39m, args):\n\u001b[0;32m     28\u001b[0m     valid \u001b[38;5;241m=\u001b[39m \u001b[38;5;28mset\u001b[39m()\n\u001b[1;32m---> 29\u001b[0m     args \u001b[38;5;241m=\u001b[39m \u001b[38;5;28;43mself\u001b[39;49m\u001b[38;5;241;43m.\u001b[39;49m\u001b[43mflatten_args\u001b[49m\u001b[43m(\u001b[49m\u001b[43margs\u001b[49m\u001b[43m)\u001b[49m\n\u001b[0;32m     30\u001b[0m     \u001b[38;5;28;01mfor\u001b[39;00m arg \u001b[38;5;129;01min\u001b[39;00m args:\n\u001b[0;32m     31\u001b[0m         \u001b[38;5;28;01mif\u001b[39;00m \u001b[38;5;28misinstance\u001b[39m(arg, \u001b[38;5;28mstr\u001b[39m):\n",
      "File \u001b[1;32m~\\AppData\\Local\\Programs\\Python\\Python310\\lib\\site-packages\\cc1_tools\\CC1RandomLevelsetGenerator.py:21\u001b[0m, in \u001b[0;36mCC1LevelsetWrapper.flatten_args\u001b[1;34m(self, args)\u001b[0m\n\u001b[0;32m     19\u001b[0m flat_args \u001b[38;5;241m=\u001b[39m []\n\u001b[0;32m     20\u001b[0m \u001b[38;5;28;01mfor\u001b[39;00m arg \u001b[38;5;129;01min\u001b[39;00m args:\n\u001b[1;32m---> 21\u001b[0m     \u001b[38;5;28;01mif\u001b[39;00m \u001b[38;5;28misinstance\u001b[39m(arg, \u001b[43mcollections\u001b[49m\u001b[38;5;241;43m.\u001b[39;49m\u001b[43mIterable\u001b[49m) \u001b[38;5;129;01mand\u001b[39;00m \u001b[38;5;129;01mnot\u001b[39;00m \u001b[38;5;28misinstance\u001b[39m(arg, \u001b[38;5;28mstr\u001b[39m):\n\u001b[0;32m     22\u001b[0m         flat_args\u001b[38;5;241m.\u001b[39mextend(arg)\n\u001b[0;32m     23\u001b[0m     \u001b[38;5;28;01melse\u001b[39;00m:\n",
      "\u001b[1;31mAttributeError\u001b[0m: module 'collections' has no attribute 'Iterable'"
     ]
    }
   ],
   "source": [
    "# drop a few levels by title from the combined pool\n",
    "DROP = [\"Blobs on a Plane\", \"Checkerboard I\", \"Suspended Animation\", \"The Longest Track\"]\n",
    "gen.drop(DROP)"
   ]
  },
  {
   "cell_type": "code",
   "execution_count": null,
   "metadata": {
    "colab": {
     "base_uri": "https://localhost:8080/"
    },
    "id": "iqT-Jexb4WDR",
    "outputId": "2fd03d45-b7c8-4bcf-ac33-e5e5e60a8b87"
   },
   "outputs": [],
   "source": [
    "# Oops, our request for \"Checkerboard I\" didn't go through.\n",
    "# Turns out it was renamed in CCLXP2 to \"Checkerboard I *\"\n",
    "# We can remove it by index from the original set since we know it is level 72.\n",
    "gen.get_set('CCLXP2.dat').drop(72)"
   ]
  },
  {
   "cell_type": "code",
   "execution_count": null,
   "metadata": {
    "colab": {
     "base_uri": "https://localhost:8080/"
    },
    "id": "LaFpgCBJsScp",
    "outputId": "dad84850-b91b-4366-dfd1-776a82f33e06"
   },
   "outputs": [],
   "source": [
    "# Actually while we're at it, drop all the Cypher levels:\n",
    "for lp in ('CCLP1.dat', 'CCLXP2.dat', 'CCLP3.dat', 'CCLP4.dat'):\n",
    "    gen.get_set(lp).drop(34)"
   ]
  },
  {
   "cell_type": "code",
   "execution_count": null,
   "metadata": {
    "colab": {
     "base_uri": "https://localhost:8080/"
    },
    "id": "gqUsjEEo-wyt",
    "outputId": "26d2f805-a691-46f7-de55-f27ee95f60a9"
   },
   "outputs": [],
   "source": [
    "# Wait, I like 'Frozen Waffle'! Let's add it back\n",
    "gen.get_set('CCLP4.dat').add(34)"
   ]
  },
  {
   "cell_type": "code",
   "execution_count": null,
   "metadata": {
    "colab": {
     "base_uri": "https://localhost:8080/"
    },
    "id": "GhLAM4aB_k8g",
    "outputId": "fded8d34-2bbc-4d82-cba7-64f313cc72b6"
   },
   "outputs": [],
   "source": [
    "# Hmm, CCLP3 gets pretty difficult. Let's keep only levels from the 10s and 20s.\n",
    "gen.get_set('CCLP3.dat').keep(range(10, 30))"
   ]
  },
  {
   "cell_type": "code",
   "execution_count": null,
   "metadata": {
    "colab": {
     "base_uri": "https://localhost:8080/"
    },
    "id": "Rj--WEu4tQ5D",
    "outputId": "effbbb1c-a772-4e77-8e07-893a65381149"
   },
   "outputs": [],
   "source": [
    "# Alright, how many levels do we have to choose from?\n",
    "print(gen.count_eligible())"
   ]
  },
  {
   "cell_type": "code",
   "execution_count": null,
   "metadata": {
    "colab": {
     "base_uri": "https://localhost:8080/"
    },
    "id": "Itk7_mZMCYb1",
    "outputId": "644a932e-fb24-4c6b-9fd5-0b0e27cc6793"
   },
   "outputs": [],
   "source": [
    "# Great! Let's generate a 20-level random set.\n",
    "random_set = gen.generate_random_set(20)\n",
    "\n",
    "for level in random_set.levels:\n",
    "    print(f\"{level.number}: {level.title}\")"
   ]
  },
  {
   "cell_type": "code",
   "execution_count": null,
   "metadata": {
    "colab": {
     "base_uri": "https://localhost:8080/"
    },
    "id": "8eFBPa6etvex",
    "outputId": "6209fc6e-e447-4f2b-980d-21d2b74232b4"
   },
   "outputs": [],
   "source": [
    "# Looks amazing! Let's write it to file now.\n",
    "gen.write(random_set, \"random_set.dat\")"
   ]
  },
  {
   "cell_type": "code",
   "execution_count": null,
   "metadata": {
    "colab": {
     "base_uri": "https://localhost:8080/",
     "height": 17
    },
    "id": "90RMfvoauU6q",
    "outputId": "3c9d7b44-5727-4ad4-a51e-a6c22e2280cf"
   },
   "outputs": [],
   "source": [
    "# Aaaaand download it from this colab\n",
    "from google.colab import files\n",
    "\n",
    "files.download('random_set.dat') "
   ]
  }
 ],
 "metadata": {
  "colab": {
   "authorship_tag": "ABX9TyMHiIMsyKV0IciVOq5la8Hs",
   "collapsed_sections": [],
   "include_colab_link": true,
   "name": "[github] CC1RandomLevelsetGenerator.ipynb",
   "provenance": []
  },
  "kernelspec": {
   "display_name": "Python 3 (ipykernel)",
   "language": "python",
   "name": "python3"
  },
  "language_info": {
   "codemirror_mode": {
    "name": "ipython",
    "version": 3
   },
   "file_extension": ".py",
   "mimetype": "text/x-python",
   "name": "python",
   "nbconvert_exporter": "python",
   "pygments_lexer": "ipython3",
   "version": "3.10.6"
  }
 },
 "nbformat": 4,
 "nbformat_minor": 1
}
