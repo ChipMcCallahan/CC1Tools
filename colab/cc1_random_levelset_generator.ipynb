{
 "cells": [
  {
   "cell_type": "markdown",
   "metadata": {
    "colab_type": "text",
    "id": "view-in-github"
   },
   "source": [
    "<a href=\"https://colab.research.google.com/github/ChipMcCallahan/CC1RandomLevelsetGenerator/blob/main/CC1RandomLevelsetGenerator.ipynb\" target=\"_parent\"><img src=\"https://colab.research.google.com/assets/colab-badge.svg\" alt=\"Open In Colab\"/></a>"
   ]
  },
  {
   "cell_type": "markdown",
   "metadata": {
    "id": "3_RIBHpx12Ak"
   },
   "source": [
    "# CC1 Random Levelset Generator\n",
    "\n",
    "Import levelsets, keep or drop levels as desired, and generate a random levelset of arbitrary length from the pool."
   ]
  },
  {
   "cell_type": "code",
   "execution_count": 11,
   "metadata": {
    "id": "selScsb9VK3Q"
   },
   "outputs": [],
   "source": [
    "%%capture\n",
    "# install the module\n",
    "\n",
    "!pip install git+https://github.com/ChipMcCallahan/CC1Tools"
   ]
  },
  {
   "cell_type": "code",
   "execution_count": 12,
   "metadata": {
    "id": "zpv7u-So8k93"
   },
   "outputs": [],
   "source": [
    "# Hack to keep Colab from auto printing return values.\n",
    "from IPython.core.interactiveshell import InteractiveShell\n",
    "InteractiveShell.ast_node_interactivity = \"none\""
   ]
  },
  {
   "cell_type": "markdown",
   "metadata": {
    "id": "FtLCNcU_9Exk"
   },
   "source": [
    "### Import sets from online\n",
    "\n",
    "Available sets are listed at  https://bitbusters.club/gliderbot/sets/cc1/"
   ]
  },
  {
   "cell_type": "code",
   "execution_count": 13,
   "metadata": {
    "colab": {
     "base_uri": "https://localhost:8080/"
    },
    "id": "2L-ot9U2p-1H",
    "outputId": "0a87f3be-1b99-48a0-d32b-1127fab831ab"
   },
   "outputs": [
    {
     "name": "stdout",
     "output_type": "stream",
     "text": [
      "Successfully retrieved https://bitbusters.club/gliderbot/sets/cc1/CCLP1.dat.\n",
      "Successfully retrieved https://storage.googleapis.com/file-hosting-abcdef/chips/CCLP1.ccx\n",
      "Successfully retrieved https://bitbusters.club/gliderbot/sets/cc1/CCLXP2.dat.\n",
      "Successfully retrieved https://storage.googleapis.com/file-hosting-abcdef/chips/CCLXP2.ccx\n",
      "Successfully retrieved https://bitbusters.club/gliderbot/sets/cc1/CCLP3.dat.\n",
      "Successfully retrieved https://storage.googleapis.com/file-hosting-abcdef/chips/CCLP3.ccx\n",
      "Successfully retrieved https://bitbusters.club/gliderbot/sets/cc1/CCLP4.dat.\n",
      "Successfully retrieved https://storage.googleapis.com/file-hosting-abcdef/chips/CCLP4.ccx\n"
     ]
    }
   ],
   "source": [
    "from cc1_tools import CC1RandomLevelsetGenerator\n",
    "gen = CC1RandomLevelsetGenerator()\n",
    "\n",
    "# Import 4 official packs.\n",
    "gen.add_set(\"CCLP1.dat\")\n",
    "gen.add_set(\"CCLXP2.dat\")\n",
    "gen.add_set(\"CCLP3.dat\")\n",
    "gen.add_set(\"CCLP4.dat\")"
   ]
  },
  {
   "cell_type": "markdown",
   "metadata": {
    "id": "nsVvIrzM8kiP"
   },
   "source": [
    "Drop or keep levels."
   ]
  },
  {
   "cell_type": "code",
   "execution_count": 14,
   "metadata": {
    "colab": {
     "base_uri": "https://localhost:8080/"
    },
    "id": "G9pRy2kOqstO",
    "outputId": "6fd5fb31-dc32-4b30-f74f-5161233c75b6"
   },
   "outputs": [
    {
     "name": "stdout",
     "output_type": "stream",
     "text": [
      "Removed 1 levels: ['Blobs on a Plane'].\n",
      "Removed 1 levels: ['Suspended Animation'].\n",
      "Removed 1 levels: ['The Longest Track'].\n"
     ]
    }
   ],
   "source": [
    "# drop a few levels by title from the combined pool\n",
    "DROP = [\"Blobs on a Plane\", \"Checkerboard I\", \"Suspended Animation\", \"The Longest Track\"]\n",
    "gen.drop(DROP)"
   ]
  },
  {
   "cell_type": "code",
   "execution_count": 15,
   "metadata": {
    "colab": {
     "base_uri": "https://localhost:8080/"
    },
    "id": "iqT-Jexb4WDR",
    "outputId": "2fd03d45-b7c8-4bcf-ac33-e5e5e60a8b87"
   },
   "outputs": [
    {
     "name": "stdout",
     "output_type": "stream",
     "text": [
      "Removed 1 levels: ['Checkerboard I *'].\n"
     ]
    }
   ],
   "source": [
    "# Oops, our request for \"Checkerboard I\" didn't go through.\n",
    "# Turns out it was renamed in CCLXP2 to \"Checkerboard I *\"\n",
    "# We can remove it by index from the original set since we know it is level 72.\n",
    "gen.get_set('CCLXP2.dat').drop(72)"
   ]
  },
  {
   "cell_type": "code",
   "execution_count": 16,
   "metadata": {
    "colab": {
     "base_uri": "https://localhost:8080/"
    },
    "id": "LaFpgCBJsScp",
    "outputId": "dad84850-b91b-4366-dfd1-776a82f33e06"
   },
   "outputs": [
    {
     "name": "stdout",
     "output_type": "stream",
     "text": [
      "Removed 1 levels: ['Just a Bunch of Letters'].\n",
      "Removed 1 levels: ['Cypher II LX'].\n",
      "Removed 1 levels: ['Motion Blur'].\n",
      "Removed 1 levels: ['Frozen Waffle'].\n"
     ]
    }
   ],
   "source": [
    "# Actually while we're at it, drop all the Cypher levels:\n",
    "for lp in ('CCLP1.dat', 'CCLXP2.dat', 'CCLP3.dat', 'CCLP4.dat'):\n",
    "    gen.get_set(lp).drop(34)"
   ]
  },
  {
   "cell_type": "code",
   "execution_count": 17,
   "metadata": {
    "colab": {
     "base_uri": "https://localhost:8080/"
    },
    "id": "gqUsjEEo-wyt",
    "outputId": "26d2f805-a691-46f7-de55-f27ee95f60a9"
   },
   "outputs": [
    {
     "name": "stdout",
     "output_type": "stream",
     "text": [
      "Added 1 levels.\n"
     ]
    }
   ],
   "source": [
    "# Wait, I like 'Frozen Waffle'! Let's add it back\n",
    "gen.get_set('CCLP4.dat').add(34)"
   ]
  },
  {
   "cell_type": "code",
   "execution_count": 18,
   "metadata": {
    "colab": {
     "base_uri": "https://localhost:8080/"
    },
    "id": "GhLAM4aB_k8g",
    "outputId": "fded8d34-2bbc-4d82-cba7-64f313cc72b6"
   },
   "outputs": [
    {
     "name": "stdout",
     "output_type": "stream",
     "text": [
      "Kept 20 levels: ['Annoying Wall', 'Blue Blocks', 'My Friend', 'Road Block', 'Window Shopping', 'Bumper', 'Two Sets of Rules', 'Lot in Life', 'Replay', 'Super Chip', 'Rock', 'Mud and Water', 'Damp', 'Map the Path', 'Impossible?', 'Recess', 'Spiral', 'Jumble', 'Pac Man', 'Tool Box']\n",
      "Removed 127 levels: ['Entrance Examination', 'Snakes and Ladders', 'A Walk in the Park', 'Suction Solution', 'Toggle Bust', 'Thieves and Teleports', 'Dancing Gliders', 'Pigeonholed', 'Redoubled Effort', 'Problem Solver', \"Bouncin' Blocks\", 'Pearl Diving', 'Vague Dream', 'MonsterMaze', \"Zelgon's Lair\", 'Blue Moon', 'Wireframe', 'Cheap Shots and Dirty Tricks', 'Blazes', 'Patchwork', 'Every Trick in the Book', \"Who's Left?\", 'Tiny Spirals', 'Block Head', 'Get a Clue', 'Flame Thrower', 'All About Buttons', 'All About Blocks', 'Once Upon a Troubadour', 'Dancing on Ice', 'Dolly Mixtures', 'Backtrack', 'Good Advice', 'Construct-a-Maze', 'Item Unlocker', 'Beachballs', 'Bowling', 'Air Pocket', 'Red, Green and Blue', 'Bump and Run', 'Go Back to Start', 'Pocket Puzzle', 'Producing', 'Countdown', 'The Aftermath', 'The Haunted House', 'Incident on a Bridge', 'Coal Mine', 'On the Coast', 'How to Get Around in Venice', 'Fireball Tourism', 'Take the I Train', 'Niche', 'Chip Alone: Lost in Chip City', 'Complex', 'Oh-Ho!', 'Slide Show', 'Clear the Way', 'Checkers', 'Possible', 'Mediterranean', 'Billiards', 'No End in Sight', 'Maginot Line', 'To Catch a Thief', 'Block and Key', 'Which One Next?', 'Replay II', 'Lichenstein', 'Olly Olly Oxen', 'Bolkonski', 'Shattered', 'Mistakes', 'Waste of Space', 'In the Limelight', 'Jumble II', 'Mouth-Watering', 'Freezer', 'Sardines', 'The Ghosts at the Massingham Mansion', 'Triple Alarm', 'Prison Break', 'Civilization of Creatures', 'Caves', 'Oil Rig', 'Lazy Hourglass', 'Magic Trick', 'Hidden Depths', 'Floating Plaza', \"Bustin' Out\", 'Pushy', 'Stress Fracture', 'Lead Us Not into Temptation', 'Triple Maze', 'Mini Challenges', 'Mice Are Good for Something', 'Obstacle Course', 'Elite', 'Twisted Chambers', 'Jaywalker', 'Manic Depression', 'Investment', 'Jumble III', 'Water Trap', 'Marooned', 'Beat the Heat', 'Divide and Conquer', 'Everybody Get Dangerous', 'Four by Four', 'Mental Blocks', 'Commit Suicide?', 'Think Tank', \"We'll Be Right Back\", 'Color Wheel', 'Grand Prix', 'Vulcan', 'Waterslide', 'Rotation', 'Yet Another Yet Another Puzzle', 'Bug Arranging', 'Mudpie', 'Same Game', \"You Can't Teach an Old Frog New Tricks\", 'Recurring Dream', 'Avalanche', 'Diabolical', 'Mr. McCallahan Presents'].\n"
     ]
    }
   ],
   "source": [
    "# Hmm, CCLP3 gets pretty difficult. Let's keep only levels from the 10s and 20s.\n",
    "gen.get_set('CCLP3.dat').keep(range(10, 30))"
   ]
  },
  {
   "cell_type": "code",
   "execution_count": 19,
   "metadata": {
    "colab": {
     "base_uri": "https://localhost:8080/"
    },
    "id": "Rj--WEu4tQ5D",
    "outputId": "effbbb1c-a772-4e77-8e07-893a65381149"
   },
   "outputs": [
    {
     "name": "stdout",
     "output_type": "stream",
     "text": [
      "462\n"
     ]
    }
   ],
   "source": [
    "# Alright, how many levels do we have to choose from?\n",
    "print(gen.count_eligible())"
   ]
  },
  {
   "cell_type": "code",
   "execution_count": 20,
   "metadata": {
    "colab": {
     "base_uri": "https://localhost:8080/"
    },
    "id": "Itk7_mZMCYb1",
    "outputId": "644a932e-fb24-4c6b-9fd5-0b0e27cc6793"
   },
   "outputs": [
    {
     "ename": "NameError",
     "evalue": "name 'cc1_levelset_proto' is not defined",
     "output_type": "error",
     "traceback": [
      "\u001b[1;31m---------------------------------------------------------------------------\u001b[0m",
      "\u001b[1;31mNameError\u001b[0m                                 Traceback (most recent call last)",
      "Input \u001b[1;32mIn [20]\u001b[0m, in \u001b[0;36m<cell line: 2>\u001b[1;34m()\u001b[0m\n\u001b[0;32m      1\u001b[0m \u001b[38;5;66;03m# Great! Let's generate a 20-level random set.\u001b[39;00m\n\u001b[1;32m----> 2\u001b[0m random_set \u001b[38;5;241m=\u001b[39m \u001b[43mgen\u001b[49m\u001b[38;5;241;43m.\u001b[39;49m\u001b[43mgenerate_random_set\u001b[49m\u001b[43m(\u001b[49m\u001b[38;5;241;43m20\u001b[39;49m\u001b[43m)\u001b[49m\n\u001b[0;32m      4\u001b[0m \u001b[38;5;28;01mfor\u001b[39;00m level \u001b[38;5;129;01min\u001b[39;00m random_set\u001b[38;5;241m.\u001b[39mlevels:\n\u001b[0;32m      5\u001b[0m     \u001b[38;5;28mprint\u001b[39m(\u001b[38;5;124mf\u001b[39m\u001b[38;5;124m\"\u001b[39m\u001b[38;5;132;01m{\u001b[39;00mlevel\u001b[38;5;241m.\u001b[39mnumber\u001b[38;5;132;01m}\u001b[39;00m\u001b[38;5;124m: \u001b[39m\u001b[38;5;132;01m{\u001b[39;00mlevel\u001b[38;5;241m.\u001b[39mtitle\u001b[38;5;132;01m}\u001b[39;00m\u001b[38;5;124m\"\u001b[39m)\n",
      "File \u001b[1;32m~\\AppData\\Local\\Programs\\Python\\Python310\\lib\\site-packages\\cc1_tools\\CC1RandomLevelsetGenerator.py:104\u001b[0m, in \u001b[0;36mCC1RandomLevelsetGenerator.generate_random_set\u001b[1;34m(self, n_levels, filename)\u001b[0m\n\u001b[0;32m    103\u001b[0m \u001b[38;5;28;01mdef\u001b[39;00m \u001b[38;5;21mgenerate_random_set\u001b[39m(\u001b[38;5;28mself\u001b[39m, n_levels, filename\u001b[38;5;241m=\u001b[39m\u001b[38;5;28;01mNone\u001b[39;00m):\n\u001b[1;32m--> 104\u001b[0m     combined_set \u001b[38;5;241m=\u001b[39m \u001b[43mcc1_levelset_proto\u001b[49m\u001b[38;5;241m.\u001b[39mcc1_levelset_pb2\u001b[38;5;241m.\u001b[39mLevelset()\n\u001b[0;32m    105\u001b[0m     \u001b[38;5;28;01mfor\u001b[39;00m wrapper \u001b[38;5;129;01min\u001b[39;00m \u001b[38;5;28mself\u001b[39m\u001b[38;5;241m.\u001b[39mpool\u001b[38;5;241m.\u001b[39mvalues():\n\u001b[0;32m    106\u001b[0m         \u001b[38;5;28;01mfor\u001b[39;00m level_num \u001b[38;5;129;01min\u001b[39;00m wrapper\u001b[38;5;241m.\u001b[39meligible:\n",
      "\u001b[1;31mNameError\u001b[0m: name 'cc1_levelset_proto' is not defined"
     ]
    }
   ],
   "source": [
    "# Great! Let's generate a 20-level random set.\n",
    "random_set = gen.generate_random_set(20)\n",
    "\n",
    "for level in random_set.levels:\n",
    "    print(f\"{level.number}: {level.title}\")"
   ]
  },
  {
   "cell_type": "code",
   "execution_count": null,
   "metadata": {
    "colab": {
     "base_uri": "https://localhost:8080/"
    },
    "id": "8eFBPa6etvex",
    "outputId": "6209fc6e-e447-4f2b-980d-21d2b74232b4"
   },
   "outputs": [],
   "source": [
    "# Looks amazing! Let's write it to file now.\n",
    "gen.write(random_set, \"random_set.dat\")"
   ]
  },
  {
   "cell_type": "code",
   "execution_count": null,
   "metadata": {
    "colab": {
     "base_uri": "https://localhost:8080/",
     "height": 17
    },
    "id": "90RMfvoauU6q",
    "outputId": "3c9d7b44-5727-4ad4-a51e-a6c22e2280cf"
   },
   "outputs": [],
   "source": [
    "# Aaaaand download it from this colab\n",
    "from google.colab import files\n",
    "\n",
    "files.download('random_set.dat') "
   ]
  }
 ],
 "metadata": {
  "colab": {
   "authorship_tag": "ABX9TyMHiIMsyKV0IciVOq5la8Hs",
   "collapsed_sections": [],
   "include_colab_link": true,
   "name": "[github] CC1RandomLevelsetGenerator.ipynb",
   "provenance": []
  },
  "kernelspec": {
   "display_name": "Python 3 (ipykernel)",
   "language": "python",
   "name": "python3"
  },
  "language_info": {
   "codemirror_mode": {
    "name": "ipython",
    "version": 3
   },
   "file_extension": ".py",
   "mimetype": "text/x-python",
   "name": "python",
   "nbconvert_exporter": "python",
   "pygments_lexer": "ipython3",
   "version": "3.10.6"
  }
 },
 "nbformat": 4,
 "nbformat_minor": 1
}
